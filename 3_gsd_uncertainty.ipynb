{
 "cells": [
  {
   "cell_type": "code",
   "execution_count": 7,
   "metadata": {},
   "outputs": [],
   "source": [
    "import GSDUncertainty\n",
    "import GrainSizing"
   ]
  },
  {
   "cell_type": "code",
   "execution_count": 8,
   "metadata": {},
   "outputs": [],
   "source": [
    "PATH = \"F:/cellpose/code_demo/\"\n",
    "gsds = GrainSizing.load.load_grain_set([PATH],gsd_str='re_scaled',filter_str='0')"
   ]
  },
  {
   "cell_type": "code",
   "execution_count": 9,
   "metadata": {},
   "outputs": [
    {
     "name": "stderr",
     "output_type": "stream",
     "text": [
      "bootstrapping: 100%|\u001b[33m██████████\u001b[0m| 7/7 [00:01<00:00,  6.84gsd/s]\n"
     ]
    }
   ],
   "source": [
    "res_dict_bs = GSDUncertainty.calculate.dataset_uncertainty(gsds,mute=True)"
   ]
  },
  {
   "cell_type": "code",
   "execution_count": 11,
   "metadata": {},
   "outputs": [
    {
     "name": "stderr",
     "output_type": "stream",
     "text": [
      "MC:   0%|\u001b[33m          \u001b[0m| 0/7 [00:00<?, ?gsd/s]"
     ]
    },
    {
     "name": "stdout",
     "output_type": "stream",
     "text": [
      "Simulating 100 distributions with 90 grains each...\n"
     ]
    },
    {
     "name": "stderr",
     "output_type": "stream",
     "text": [
      "MC:  14%|\u001b[33m█▍        \u001b[0m| 1/7 [00:09<00:59,  9.92s/gsd]"
     ]
    },
    {
     "name": "stdout",
     "output_type": "stream",
     "text": [
      "Results for 4_P1060348_3FH_boosted_pred_grains_grains_re_scaled_perc_uncert successfully saved.\n",
      "Simulating 100 distributions with 52 grains each...\n"
     ]
    },
    {
     "name": "stderr",
     "output_type": "stream",
     "text": [
      "MC:  29%|\u001b[33m██▊       \u001b[0m| 2/7 [00:18<00:46,  9.36s/gsd]"
     ]
    },
    {
     "name": "stdout",
     "output_type": "stream",
     "text": [
      "Results for 1_P1060330_1FH_boosted_pred_grains_grains_re_scaled_perc_uncert successfully saved.\n",
      "Simulating 100 distributions with 25 grains each...\n"
     ]
    },
    {
     "name": "stderr",
     "output_type": "stream",
     "text": [
      "MC:  43%|\u001b[33m████▎     \u001b[0m| 3/7 [00:27<00:35,  8.96s/gsd]"
     ]
    },
    {
     "name": "stdout",
     "output_type": "stream",
     "text": [
      "Results for 2_P1060338_0FH_boosted_pred_grains_grains_re_scaled_perc_uncert successfully saved.\n",
      "Simulating 100 distributions with 108 grains each...\n"
     ]
    },
    {
     "name": "stderr",
     "output_type": "stream",
     "text": [
      "MC:  43%|\u001b[33m████▎     \u001b[0m| 3/7 [00:34<00:46, 11.57s/gsd]\n"
     ]
    },
    {
     "ename": "KeyboardInterrupt",
     "evalue": "",
     "output_type": "error",
     "traceback": [
      "\u001b[1;31m---------------------------------------------------------------------------\u001b[0m",
      "\u001b[1;31mKeyboardInterrupt\u001b[0m                         Traceback (most recent call last)",
      "Cell \u001b[1;32mIn [11], line 1\u001b[0m\n\u001b[1;32m----> 1\u001b[0m res_dict_mc \u001b[39m=\u001b[39m GSDUncertainty\u001b[39m.\u001b[39;49mcalculate\u001b[39m.\u001b[39;49mdataset_uncertainty(gsds,method\u001b[39m=\u001b[39;49m\u001b[39m'\u001b[39;49m\u001b[39mMC\u001b[39;49m\u001b[39m'\u001b[39;49m,scale_err\u001b[39m=\u001b[39;49m[\u001b[39m.1\u001b[39;49m],length_err\u001b[39m=\u001b[39;49m[\u001b[39m1\u001b[39;49m],num_it\u001b[39m=\u001b[39;49m\u001b[39m100\u001b[39;49m)\n",
      "File \u001b[1;32mf:\\git\\grain_seg_ml\\GSDUncertainty.py:337\u001b[0m, in \u001b[0;36mcalculate.dataset_uncertainty\u001b[1;34m(gsds, INP_DIR, grain_str, sep, column_name, conv_factor, method, scale_err, length_err, sfm_error, num_it, CI_bounds, MC_method, MC_cutoff, avg_res, mute, save_results, TAR_DIR, return_results, res_dict, sfm_type)\u001b[0m\n\u001b[0;32m    335\u001b[0m \u001b[39melse\u001b[39;00m:\n\u001b[0;32m    336\u001b[0m     avg_res_i \u001b[39m=\u001b[39m \u001b[39m1\u001b[39m\n\u001b[1;32m--> 337\u001b[0m med_list, upper_CI, lower_CI, gsd_list, ID \u001b[39m=\u001b[39m calculate\u001b[39m.\u001b[39;49mgsd_uncertainty(INP_PATH\u001b[39m=\u001b[39;49mgsds[i],sep\u001b[39m=\u001b[39;49msep,column_name\u001b[39m=\u001b[39;49mcolumn_name,conv_factor\u001b[39m=\u001b[39;49mconv_factor,method\u001b[39m=\u001b[39;49mmethod,scale_err\u001b[39m=\u001b[39;49mscale_err_i,length_err\u001b[39m=\u001b[39;49mlength_err_i,\n\u001b[0;32m    338\u001b[0m sfm_error\u001b[39m=\u001b[39;49msfm_error_i,num_it\u001b[39m=\u001b[39;49mnum_it,CI_bounds\u001b[39m=\u001b[39;49mCI_bounds, MC_method\u001b[39m=\u001b[39;49mMC_method,MC_cutoff\u001b[39m=\u001b[39;49mMC_cutoff,avg_res\u001b[39m=\u001b[39;49mavg_res_i,mute\u001b[39m=\u001b[39;49mmute,save_results\u001b[39m=\u001b[39;49msave_results,TAR_DIR\u001b[39m=\u001b[39;49mTAR_DIR,return_results\u001b[39m=\u001b[39;49m\u001b[39mTrue\u001b[39;49;00m,sfm_type\u001b[39m=\u001b[39;49msfm_type)\n\u001b[0;32m    339\u001b[0m \u001b[39mif\u001b[39;00m return_results\u001b[39m==\u001b[39m\u001b[39mTrue\u001b[39;00m:\n\u001b[0;32m    340\u001b[0m     res_dict[ID]\u001b[39m=\u001b[39m[med_list, upper_CI, lower_CI, gsd_list]\n",
      "File \u001b[1;32mf:\\git\\grain_seg_ml\\GSDUncertainty.py:358\u001b[0m, in \u001b[0;36mcalculate.gsd_uncertainty\u001b[1;34m(gsd, ID, INP_PATH, sep, column_name, conv_factor, method, scale_err, length_err, sfm_error, num_it, CI_bounds, MC_method, MC_cutoff, avg_res, mute, save_results, TAR_DIR, return_results, sfm_type)\u001b[0m\n\u001b[0;32m    356\u001b[0m \u001b[39mif\u001b[39;00m \u001b[39mnot\u001b[39;00m avg_res:\n\u001b[0;32m    357\u001b[0m     avg_res\u001b[39m=\u001b[39m\u001b[39m1\u001b[39m\n\u001b[1;32m--> 358\u001b[0m med_list, upper_CI, lower_CI, gsd_list \u001b[39m=\u001b[39m calculate\u001b[39m.\u001b[39;49muncertainty(gsd,method\u001b[39m=\u001b[39;49mmethod,scale_err\u001b[39m=\u001b[39;49mscale_err,length_err\u001b[39m=\u001b[39;49mlength_err,\n\u001b[0;32m    359\u001b[0m sfm_error\u001b[39m=\u001b[39;49msfm_error,num_it\u001b[39m=\u001b[39;49mnum_it,CI_bounds\u001b[39m=\u001b[39;49mCI_bounds,MC_method\u001b[39m=\u001b[39;49mMC_method,MC_cutoff\u001b[39m=\u001b[39;49mMC_cutoff,avg_res\u001b[39m=\u001b[39;49mavg_res,mute\u001b[39m=\u001b[39;49mmute,sfm_type\u001b[39m=\u001b[39;49msfm_type)\n\u001b[0;32m    360\u001b[0m \u001b[39mif\u001b[39;00m save_results \u001b[39m==\u001b[39m \u001b[39mTrue\u001b[39;00m:\n\u001b[0;32m    361\u001b[0m     \u001b[39mif\u001b[39;00m TAR_DIR:\n",
      "File \u001b[1;32mf:\\git\\grain_seg_ml\\GSDUncertainty.py:386\u001b[0m, in \u001b[0;36mcalculate.uncertainty\u001b[1;34m(gsd, method, scale_err, length_err, sfm_error, num_it, CI_bounds, MC_method, MC_cutoff, avg_res, mute, sfm_type)\u001b[0m\n\u001b[0;32m    384\u001b[0m     med_list, upper_CI, lower_CI \u001b[39m=\u001b[39m random\u001b[39m.\u001b[39mbootstrapping(gsd,num_it\u001b[39m=\u001b[39mnum_it,CI_bounds\u001b[39m=\u001b[39mCI_bounds)\n\u001b[0;32m    385\u001b[0m \u001b[39mif\u001b[39;00m method \u001b[39m==\u001b[39m \u001b[39m'\u001b[39m\u001b[39mMC\u001b[39m\u001b[39m'\u001b[39m:\n\u001b[1;32m--> 386\u001b[0m     res_list \u001b[39m=\u001b[39m random\u001b[39m.\u001b[39;49mMC_with_length_scale(gsd,scale_err,length_err,method\u001b[39m=\u001b[39;49mMC_method,num_it\u001b[39m=\u001b[39;49mnum_it,cutoff\u001b[39m=\u001b[39;49mMC_cutoff,mute\u001b[39m=\u001b[39;49mmute)\n\u001b[0;32m    387\u001b[0m     med_list, upper_CI, lower_CI \u001b[39m=\u001b[39m random\u001b[39m.\u001b[39mget_MC_percentiles(res_list,CI_bounds\u001b[39m=\u001b[39mCI_bounds)\n\u001b[0;32m    388\u001b[0m \u001b[39mif\u001b[39;00m method \u001b[39m==\u001b[39m \u001b[39m'\u001b[39m\u001b[39mMC_SfM\u001b[39m\u001b[39m'\u001b[39m:\n",
      "File \u001b[1;32mf:\\git\\grain_seg_ml\\GSDUncertainty.py:110\u001b[0m, in \u001b[0;36mrandom.MC_with_length_scale\u001b[1;34m(gsd, scale_err, length_err, method, num_it, cutoff, mute)\u001b[0m\n\u001b[0;32m    108\u001b[0m rand_p \u001b[39m=\u001b[39m np\u001b[39m.\u001b[39mrandom\u001b[39m.\u001b[39mchoice(gsd,\u001b[39mlen\u001b[39m(gsd))\n\u001b[0;32m    109\u001b[0m \u001b[39m# fit lognorm distribution to randomized profile                               \u001b[39;00m\n\u001b[1;32m--> 110\u001b[0m shape,lo_c,s_cale \u001b[39m=\u001b[39m stats\u001b[39m.\u001b[39mlognorm\u001b[39m.\u001b[39mfit(rand_p)      \n\u001b[0;32m    111\u001b[0m rand_p_new \u001b[39m=\u001b[39m ([])                                                      \n\u001b[0;32m    112\u001b[0m \u001b[39mfor\u001b[39;00m g \u001b[39min\u001b[39;00m rand_p:\n",
      "File \u001b[1;32mc:\\Users\\Mair\\anaconda3\\envs\\cellpose\\lib\\site-packages\\scipy\\stats\\_continuous_distns.py:64\u001b[0m, in \u001b[0;36m_call_super_mom.<locals>.wrapper\u001b[1;34m(self, *args, **kwds)\u001b[0m\n\u001b[0;32m     62\u001b[0m     \u001b[39mreturn\u001b[39;00m \u001b[39msuper\u001b[39m(\u001b[39mtype\u001b[39m(\u001b[39mself\u001b[39m), \u001b[39mself\u001b[39m)\u001b[39m.\u001b[39mfit(\u001b[39m*\u001b[39margs, \u001b[39m*\u001b[39m\u001b[39m*\u001b[39mkwds)\n\u001b[0;32m     63\u001b[0m \u001b[39melse\u001b[39;00m:\n\u001b[1;32m---> 64\u001b[0m     \u001b[39mreturn\u001b[39;00m fun(\u001b[39mself\u001b[39;49m, \u001b[39m*\u001b[39;49margs, \u001b[39m*\u001b[39;49m\u001b[39m*\u001b[39;49mkwds)\n",
      "File \u001b[1;32mc:\\Users\\Mair\\anaconda3\\envs\\cellpose\\lib\\site-packages\\scipy\\stats\\_continuous_distns.py:5386\u001b[0m, in \u001b[0;36mlognorm_gen.fit\u001b[1;34m(self, data, *args, **kwds)\u001b[0m\n\u001b[0;32m   5383\u001b[0m floc \u001b[39m=\u001b[39m kwds\u001b[39m.\u001b[39mget(\u001b[39m'\u001b[39m\u001b[39mfloc\u001b[39m\u001b[39m'\u001b[39m, \u001b[39mNone\u001b[39;00m)\n\u001b[0;32m   5384\u001b[0m \u001b[39mif\u001b[39;00m floc \u001b[39mis\u001b[39;00m \u001b[39mNone\u001b[39;00m:\n\u001b[0;32m   5385\u001b[0m     \u001b[39m# fall back on the default fit method.\u001b[39;00m\n\u001b[1;32m-> 5386\u001b[0m     \u001b[39mreturn\u001b[39;00m \u001b[39msuper\u001b[39;49m()\u001b[39m.\u001b[39;49mfit(data, \u001b[39m*\u001b[39;49margs, \u001b[39m*\u001b[39;49m\u001b[39m*\u001b[39;49mkwds)\n\u001b[0;32m   5388\u001b[0m f0 \u001b[39m=\u001b[39m (kwds\u001b[39m.\u001b[39mget(\u001b[39m'\u001b[39m\u001b[39mf0\u001b[39m\u001b[39m'\u001b[39m, \u001b[39mNone\u001b[39;00m) \u001b[39mor\u001b[39;00m kwds\u001b[39m.\u001b[39mget(\u001b[39m'\u001b[39m\u001b[39mfs\u001b[39m\u001b[39m'\u001b[39m, \u001b[39mNone\u001b[39;00m) \u001b[39mor\u001b[39;00m\n\u001b[0;32m   5389\u001b[0m       kwds\u001b[39m.\u001b[39mget(\u001b[39m'\u001b[39m\u001b[39mfix_s\u001b[39m\u001b[39m'\u001b[39m, \u001b[39mNone\u001b[39;00m))\n\u001b[0;32m   5390\u001b[0m fscale \u001b[39m=\u001b[39m kwds\u001b[39m.\u001b[39mget(\u001b[39m'\u001b[39m\u001b[39mfscale\u001b[39m\u001b[39m'\u001b[39m, \u001b[39mNone\u001b[39;00m)\n",
      "File \u001b[1;32mc:\\Users\\Mair\\anaconda3\\envs\\cellpose\\lib\\site-packages\\scipy\\stats\\_distn_infrastructure.py:2671\u001b[0m, in \u001b[0;36mrv_continuous.fit\u001b[1;34m(self, data, *args, **kwds)\u001b[0m\n\u001b[0;32m   2665\u001b[0m     \u001b[39mraise\u001b[39;00m \u001b[39mTypeError\u001b[39;00m(\u001b[39m\"\u001b[39m\u001b[39mUnknown arguments: \u001b[39m\u001b[39m%s\u001b[39;00m\u001b[39m.\u001b[39m\u001b[39m\"\u001b[39m \u001b[39m%\u001b[39m kwds)\n\u001b[0;32m   2667\u001b[0m \u001b[39m# In some cases, method of moments can be done with fsolve/root\u001b[39;00m\n\u001b[0;32m   2668\u001b[0m \u001b[39m# instead of an optimizer, but sometimes no solution exists,\u001b[39;00m\n\u001b[0;32m   2669\u001b[0m \u001b[39m# especially when the user fixes parameters. Minimizing the sum\u001b[39;00m\n\u001b[0;32m   2670\u001b[0m \u001b[39m# of squares of the error generalizes to these cases.\u001b[39;00m\n\u001b[1;32m-> 2671\u001b[0m vals \u001b[39m=\u001b[39m optimizer(func, x0, args\u001b[39m=\u001b[39;49m(ravel(data),), disp\u001b[39m=\u001b[39;49m\u001b[39m0\u001b[39;49m)\n\u001b[0;32m   2672\u001b[0m obj \u001b[39m=\u001b[39m func(vals, data)\n\u001b[0;32m   2674\u001b[0m \u001b[39mif\u001b[39;00m restore \u001b[39mis\u001b[39;00m \u001b[39mnot\u001b[39;00m \u001b[39mNone\u001b[39;00m:\n",
      "File \u001b[1;32mc:\\Users\\Mair\\anaconda3\\envs\\cellpose\\lib\\site-packages\\scipy\\optimize\\_optimize.py:622\u001b[0m, in \u001b[0;36mfmin\u001b[1;34m(func, x0, args, xtol, ftol, maxiter, maxfun, full_output, disp, retall, callback, initial_simplex)\u001b[0m\n\u001b[0;32m    513\u001b[0m \u001b[39m\"\"\"\u001b[39;00m\n\u001b[0;32m    514\u001b[0m \u001b[39mMinimize a function using the downhill simplex algorithm.\u001b[39;00m\n\u001b[0;32m    515\u001b[0m \n\u001b[1;32m   (...)\u001b[0m\n\u001b[0;32m    612\u001b[0m \n\u001b[0;32m    613\u001b[0m \u001b[39m\"\"\"\u001b[39;00m\n\u001b[0;32m    614\u001b[0m opts \u001b[39m=\u001b[39m {\u001b[39m'\u001b[39m\u001b[39mxatol\u001b[39m\u001b[39m'\u001b[39m: xtol,\n\u001b[0;32m    615\u001b[0m         \u001b[39m'\u001b[39m\u001b[39mfatol\u001b[39m\u001b[39m'\u001b[39m: ftol,\n\u001b[0;32m    616\u001b[0m         \u001b[39m'\u001b[39m\u001b[39mmaxiter\u001b[39m\u001b[39m'\u001b[39m: maxiter,\n\u001b[1;32m   (...)\u001b[0m\n\u001b[0;32m    619\u001b[0m         \u001b[39m'\u001b[39m\u001b[39mreturn_all\u001b[39m\u001b[39m'\u001b[39m: retall,\n\u001b[0;32m    620\u001b[0m         \u001b[39m'\u001b[39m\u001b[39minitial_simplex\u001b[39m\u001b[39m'\u001b[39m: initial_simplex}\n\u001b[1;32m--> 622\u001b[0m res \u001b[39m=\u001b[39m _minimize_neldermead(func, x0, args, callback\u001b[39m=\u001b[39;49mcallback, \u001b[39m*\u001b[39;49m\u001b[39m*\u001b[39;49mopts)\n\u001b[0;32m    623\u001b[0m \u001b[39mif\u001b[39;00m full_output:\n\u001b[0;32m    624\u001b[0m     retlist \u001b[39m=\u001b[39m res[\u001b[39m'\u001b[39m\u001b[39mx\u001b[39m\u001b[39m'\u001b[39m], res[\u001b[39m'\u001b[39m\u001b[39mfun\u001b[39m\u001b[39m'\u001b[39m], res[\u001b[39m'\u001b[39m\u001b[39mnit\u001b[39m\u001b[39m'\u001b[39m], res[\u001b[39m'\u001b[39m\u001b[39mnfev\u001b[39m\u001b[39m'\u001b[39m], res[\u001b[39m'\u001b[39m\u001b[39mstatus\u001b[39m\u001b[39m'\u001b[39m]\n",
      "File \u001b[1;32mc:\\Users\\Mair\\anaconda3\\envs\\cellpose\\lib\\site-packages\\scipy\\optimize\\_optimize.py:854\u001b[0m, in \u001b[0;36m_minimize_neldermead\u001b[1;34m(func, x0, args, callback, maxiter, maxfev, disp, return_all, initial_simplex, xatol, fatol, adaptive, bounds, **unknown_options)\u001b[0m\n\u001b[0;32m    852\u001b[0m \u001b[39mfinally\u001b[39;00m:\n\u001b[0;32m    853\u001b[0m     ind \u001b[39m=\u001b[39m np\u001b[39m.\u001b[39margsort(fsim)\n\u001b[1;32m--> 854\u001b[0m     sim \u001b[39m=\u001b[39m np\u001b[39m.\u001b[39;49mtake(sim, ind, \u001b[39m0\u001b[39;49m)\n\u001b[0;32m    855\u001b[0m     fsim \u001b[39m=\u001b[39m np\u001b[39m.\u001b[39mtake(fsim, ind, \u001b[39m0\u001b[39m)\n\u001b[0;32m    856\u001b[0m     \u001b[39mif\u001b[39;00m callback \u001b[39mis\u001b[39;00m \u001b[39mnot\u001b[39;00m \u001b[39mNone\u001b[39;00m:\n",
      "File \u001b[1;32m<__array_function__ internals>:5\u001b[0m, in \u001b[0;36mtake\u001b[1;34m(*args, **kwargs)\u001b[0m\n",
      "File \u001b[1;32mc:\\Users\\Mair\\anaconda3\\envs\\cellpose\\lib\\site-packages\\numpy\\core\\fromnumeric.py:190\u001b[0m, in \u001b[0;36mtake\u001b[1;34m(a, indices, axis, out, mode)\u001b[0m\n\u001b[0;32m     93\u001b[0m \u001b[39m@array_function_dispatch\u001b[39m(_take_dispatcher)\n\u001b[0;32m     94\u001b[0m \u001b[39mdef\u001b[39;00m \u001b[39mtake\u001b[39m(a, indices, axis\u001b[39m=\u001b[39m\u001b[39mNone\u001b[39;00m, out\u001b[39m=\u001b[39m\u001b[39mNone\u001b[39;00m, mode\u001b[39m=\u001b[39m\u001b[39m'\u001b[39m\u001b[39mraise\u001b[39m\u001b[39m'\u001b[39m):\n\u001b[0;32m     95\u001b[0m     \u001b[39m\"\"\"\u001b[39;00m\n\u001b[0;32m     96\u001b[0m \u001b[39m    Take elements from an array along an axis.\u001b[39;00m\n\u001b[0;32m     97\u001b[0m \n\u001b[1;32m   (...)\u001b[0m\n\u001b[0;32m    188\u001b[0m \u001b[39m           [5, 7]])\u001b[39;00m\n\u001b[0;32m    189\u001b[0m \u001b[39m    \"\"\"\u001b[39;00m\n\u001b[1;32m--> 190\u001b[0m     \u001b[39mreturn\u001b[39;00m _wrapfunc(a, \u001b[39m'\u001b[39;49m\u001b[39mtake\u001b[39;49m\u001b[39m'\u001b[39;49m, indices, axis\u001b[39m=\u001b[39;49maxis, out\u001b[39m=\u001b[39;49mout, mode\u001b[39m=\u001b[39;49mmode)\n",
      "File \u001b[1;32mc:\\Users\\Mair\\anaconda3\\envs\\cellpose\\lib\\site-packages\\numpy\\core\\fromnumeric.py:57\u001b[0m, in \u001b[0;36m_wrapfunc\u001b[1;34m(obj, method, *args, **kwds)\u001b[0m\n\u001b[0;32m     54\u001b[0m     \u001b[39mreturn\u001b[39;00m _wrapit(obj, method, \u001b[39m*\u001b[39margs, \u001b[39m*\u001b[39m\u001b[39m*\u001b[39mkwds)\n\u001b[0;32m     56\u001b[0m \u001b[39mtry\u001b[39;00m:\n\u001b[1;32m---> 57\u001b[0m     \u001b[39mreturn\u001b[39;00m bound(\u001b[39m*\u001b[39;49margs, \u001b[39m*\u001b[39;49m\u001b[39m*\u001b[39;49mkwds)\n\u001b[0;32m     58\u001b[0m \u001b[39mexcept\u001b[39;00m \u001b[39mTypeError\u001b[39;00m:\n\u001b[0;32m     59\u001b[0m     \u001b[39m# A TypeError occurs if the object does have such a method in its\u001b[39;00m\n\u001b[0;32m     60\u001b[0m     \u001b[39m# class, but its signature is not identical to that of NumPy's. This\u001b[39;00m\n\u001b[1;32m   (...)\u001b[0m\n\u001b[0;32m     64\u001b[0m     \u001b[39m# Call _wrapit from within the except clause to ensure a potential\u001b[39;00m\n\u001b[0;32m     65\u001b[0m     \u001b[39m# exception has a traceback chain.\u001b[39;00m\n\u001b[0;32m     66\u001b[0m     \u001b[39mreturn\u001b[39;00m _wrapit(obj, method, \u001b[39m*\u001b[39margs, \u001b[39m*\u001b[39m\u001b[39m*\u001b[39mkwds)\n",
      "\u001b[1;31mKeyboardInterrupt\u001b[0m: "
     ]
    }
   ],
   "source": [
    "res_dict_mc = GSDUncertainty.calculate.dataset_uncertainty(gsds,method='MC',scale_err=[.1],length_err=[1],num_it=100,mute=True)"
   ]
  },
  {
   "cell_type": "code",
   "execution_count": null,
   "metadata": {},
   "outputs": [],
   "source": [
    "sfm_error_l = GSDUncertainty.calculate.compile_sfm_error(from_file=PATH+'OM_err.csv')"
   ]
  },
  {
   "cell_type": "code",
   "execution_count": null,
   "metadata": {},
   "outputs": [
    {
     "name": "stderr",
     "output_type": "stream",
     "text": [
      "MC_SfM:   0%|\u001b[33m          \u001b[0m| 0/7 [00:03<?, ?gsd/s]\n"
     ]
    },
    {
     "ename": "KeyboardInterrupt",
     "evalue": "",
     "output_type": "error",
     "traceback": [
      "\u001b[1;31m---------------------------------------------------------------------------\u001b[0m",
      "\u001b[1;31mKeyboardInterrupt\u001b[0m                         Traceback (most recent call last)",
      "Cell \u001b[1;32mIn [6], line 1\u001b[0m\n\u001b[1;32m----> 1\u001b[0m res_dict_om \u001b[39m=\u001b[39m GSDUncertainty\u001b[39m.\u001b[39;49mcalculate\u001b[39m.\u001b[39;49mdataset_uncertainty(gsds,method\u001b[39m=\u001b[39;49m\u001b[39m'\u001b[39;49m\u001b[39mMC_SfM\u001b[39;49m\u001b[39m'\u001b[39;49m,sfm_error\u001b[39m=\u001b[39;49msfm_error_l,sfm_type\u001b[39m=\u001b[39;49m\u001b[39m'\u001b[39;49m\u001b[39mOM\u001b[39;49m\u001b[39m'\u001b[39;49m,num_it\u001b[39m=\u001b[39;49m\u001b[39m100\u001b[39;49m,mute\u001b[39m=\u001b[39;49m\u001b[39mTrue\u001b[39;49;00m)\n",
      "File \u001b[1;32mf:\\git\\grain_seg_ml\\GSDUncertainty.py:337\u001b[0m, in \u001b[0;36mcalculate.dataset_uncertainty\u001b[1;34m(gsds, INP_DIR, grain_str, sep, column_name, conv_factor, method, scale_err, length_err, sfm_error, num_it, CI_bounds, MC_method, MC_cutoff, avg_res, mute, save_results, TAR_DIR, return_results, res_dict, sfm_type)\u001b[0m\n\u001b[0;32m    335\u001b[0m \u001b[39melse\u001b[39;00m:\n\u001b[0;32m    336\u001b[0m     avg_res_i \u001b[39m=\u001b[39m \u001b[39m1\u001b[39m\n\u001b[1;32m--> 337\u001b[0m med_list, upper_CI, lower_CI, gsd_list, ID \u001b[39m=\u001b[39m calculate\u001b[39m.\u001b[39;49mgsd_uncertainty(INP_PATH\u001b[39m=\u001b[39;49mgsds[i],sep\u001b[39m=\u001b[39;49msep,column_name\u001b[39m=\u001b[39;49mcolumn_name,conv_factor\u001b[39m=\u001b[39;49mconv_factor,method\u001b[39m=\u001b[39;49mmethod,scale_err\u001b[39m=\u001b[39;49mscale_err_i,length_err\u001b[39m=\u001b[39;49mlength_err_i,\n\u001b[0;32m    338\u001b[0m sfm_error\u001b[39m=\u001b[39;49msfm_error_i,num_it\u001b[39m=\u001b[39;49mnum_it,CI_bounds\u001b[39m=\u001b[39;49mCI_bounds, MC_method\u001b[39m=\u001b[39;49mMC_method,MC_cutoff\u001b[39m=\u001b[39;49mMC_cutoff,avg_res\u001b[39m=\u001b[39;49mavg_res_i,mute\u001b[39m=\u001b[39;49mmute,save_results\u001b[39m=\u001b[39;49msave_results,TAR_DIR\u001b[39m=\u001b[39;49mTAR_DIR,return_results\u001b[39m=\u001b[39;49m\u001b[39mTrue\u001b[39;49;00m,sfm_type\u001b[39m=\u001b[39;49msfm_type)\n\u001b[0;32m    339\u001b[0m \u001b[39mif\u001b[39;00m return_results\u001b[39m==\u001b[39m\u001b[39mTrue\u001b[39;00m:\n\u001b[0;32m    340\u001b[0m     res_dict[ID]\u001b[39m=\u001b[39m[med_list, upper_CI, lower_CI, gsd_list]\n",
      "File \u001b[1;32mf:\\git\\grain_seg_ml\\GSDUncertainty.py:358\u001b[0m, in \u001b[0;36mcalculate.gsd_uncertainty\u001b[1;34m(gsd, ID, INP_PATH, sep, column_name, conv_factor, method, scale_err, length_err, sfm_error, num_it, CI_bounds, MC_method, MC_cutoff, avg_res, mute, save_results, TAR_DIR, return_results, sfm_type)\u001b[0m\n\u001b[0;32m    356\u001b[0m \u001b[39mif\u001b[39;00m \u001b[39mnot\u001b[39;00m avg_res:\n\u001b[0;32m    357\u001b[0m     avg_res\u001b[39m=\u001b[39m\u001b[39m1\u001b[39m\n\u001b[1;32m--> 358\u001b[0m med_list, upper_CI, lower_CI, gsd_list \u001b[39m=\u001b[39m calculate\u001b[39m.\u001b[39;49muncertainty(gsd,method\u001b[39m=\u001b[39;49mmethod,scale_err\u001b[39m=\u001b[39;49mscale_err,length_err\u001b[39m=\u001b[39;49mlength_err,\n\u001b[0;32m    359\u001b[0m sfm_error\u001b[39m=\u001b[39;49msfm_error,num_it\u001b[39m=\u001b[39;49mnum_it,CI_bounds\u001b[39m=\u001b[39;49mCI_bounds,MC_method\u001b[39m=\u001b[39;49mMC_method,MC_cutoff\u001b[39m=\u001b[39;49mMC_cutoff,avg_res\u001b[39m=\u001b[39;49mavg_res,mute\u001b[39m=\u001b[39;49mmute,sfm_type\u001b[39m=\u001b[39;49msfm_type)\n\u001b[0;32m    360\u001b[0m \u001b[39mif\u001b[39;00m save_results \u001b[39m==\u001b[39m \u001b[39mTrue\u001b[39;00m:\n\u001b[0;32m    361\u001b[0m     \u001b[39mif\u001b[39;00m TAR_DIR:\n",
      "File \u001b[1;32mf:\\git\\grain_seg_ml\\GSDUncertainty.py:390\u001b[0m, in \u001b[0;36mcalculate.uncertainty\u001b[1;34m(gsd, method, scale_err, length_err, sfm_error, num_it, CI_bounds, MC_method, MC_cutoff, avg_res, mute, sfm_type)\u001b[0m\n\u001b[0;32m    388\u001b[0m \u001b[39mif\u001b[39;00m method \u001b[39m==\u001b[39m \u001b[39m'\u001b[39m\u001b[39mMC_SfM\u001b[39m\u001b[39m'\u001b[39m:\n\u001b[0;32m    389\u001b[0m     \u001b[39mif\u001b[39;00m sfm_type \u001b[39m==\u001b[39m \u001b[39m'\u001b[39m\u001b[39mOM\u001b[39m\u001b[39m'\u001b[39m:\n\u001b[1;32m--> 390\u001b[0m         res_list \u001b[39m=\u001b[39m random\u001b[39m.\u001b[39;49mMC_with_sfm_err_OM(gsd,sfm_error\u001b[39m=\u001b[39;49msfm_error,avg_res\u001b[39m=\u001b[39;49mavg_res,num_it\u001b[39m=\u001b[39;49mnum_it,cutoff\u001b[39m=\u001b[39;49mMC_cutoff,method\u001b[39m=\u001b[39;49mMC_method,mute\u001b[39m=\u001b[39;49mmute)\n\u001b[0;32m    391\u001b[0m         med_list, upper_CI, lower_CI \u001b[39m=\u001b[39m random\u001b[39m.\u001b[39mget_MC_percentiles(res_list,CI_bounds\u001b[39m=\u001b[39mCI_bounds)\n\u001b[0;32m    392\u001b[0m     \u001b[39melse\u001b[39;00m:\n",
      "File \u001b[1;32mf:\\git\\grain_seg_ml\\GSDUncertainty.py:248\u001b[0m, in \u001b[0;36mrandom.MC_with_sfm_err_OM\u001b[1;34m(gsd, sfm_error, method, avg_res, num_it, cutoff, mute)\u001b[0m\n\u001b[0;32m    246\u001b[0m \u001b[39m# account for model shape uncertainty with truncnorm\u001b[39;00m\n\u001b[0;32m    247\u001b[0m a_g, b_g \u001b[39m=\u001b[39m (\u001b[39m0\u001b[39m \u001b[39m-\u001b[39m g) \u001b[39m/\u001b[39m shape_err , (np\u001b[39m.\u001b[39minf \u001b[39m-\u001b[39m g) \u001b[39m/\u001b[39m shape_err\n\u001b[1;32m--> 248\u001b[0m g1 \u001b[39m=\u001b[39m stats\u001b[39m.\u001b[39;49mtruncnorm\u001b[39m.\u001b[39;49mrvs(a_g, b_g, loc \u001b[39m=\u001b[39;49m g, scale \u001b[39m=\u001b[39;49m shape_err)\n\u001b[0;32m    249\u001b[0m \u001b[39m# scaling with scale_err\u001b[39;00m\n\u001b[0;32m    250\u001b[0m g \u001b[39m=\u001b[39m g1 \u001b[39m*\u001b[39m rand_scale_err\n",
      "File \u001b[1;32mc:\\Users\\Mair\\anaconda3\\envs\\cellpose\\lib\\site-packages\\scipy\\stats\\_distn_infrastructure.py:1078\u001b[0m, in \u001b[0;36mrv_generic.rvs\u001b[1;34m(self, *args, **kwds)\u001b[0m\n\u001b[0;32m   1075\u001b[0m \u001b[39melse\u001b[39;00m:\n\u001b[0;32m   1076\u001b[0m     random_state \u001b[39m=\u001b[39m \u001b[39mself\u001b[39m\u001b[39m.\u001b[39m_random_state\n\u001b[1;32m-> 1078\u001b[0m vals \u001b[39m=\u001b[39m \u001b[39mself\u001b[39;49m\u001b[39m.\u001b[39;49m_rvs(\u001b[39m*\u001b[39;49margs, size\u001b[39m=\u001b[39;49msize, random_state\u001b[39m=\u001b[39;49mrandom_state)\n\u001b[0;32m   1080\u001b[0m vals \u001b[39m=\u001b[39m vals \u001b[39m*\u001b[39m scale \u001b[39m+\u001b[39m loc\n\u001b[0;32m   1082\u001b[0m \u001b[39m# do not forget to restore the _random_state\u001b[39;00m\n",
      "File \u001b[1;32mc:\\Users\\Mair\\anaconda3\\envs\\cellpose\\lib\\site-packages\\scipy\\stats\\_distn_infrastructure.py:1004\u001b[0m, in \u001b[0;36mrv_generic._rvs\u001b[1;34m(self, size, random_state, *args)\u001b[0m\n\u001b[0;32m    996\u001b[0m \u001b[39mdef\u001b[39;00m \u001b[39m_rvs\u001b[39m(\u001b[39mself\u001b[39m, \u001b[39m*\u001b[39margs, size\u001b[39m=\u001b[39m\u001b[39mNone\u001b[39;00m, random_state\u001b[39m=\u001b[39m\u001b[39mNone\u001b[39;00m):\n\u001b[0;32m    997\u001b[0m     \u001b[39m# This method must handle size being a tuple, and it must\u001b[39;00m\n\u001b[0;32m    998\u001b[0m     \u001b[39m# properly broadcast *args and size.  size might be\u001b[39;00m\n\u001b[1;32m   (...)\u001b[0m\n\u001b[0;32m   1001\u001b[0m \n\u001b[0;32m   1002\u001b[0m     \u001b[39m# Use basic inverse cdf algorithm for RV generation as default.\u001b[39;00m\n\u001b[0;32m   1003\u001b[0m     U \u001b[39m=\u001b[39m random_state\u001b[39m.\u001b[39muniform(size\u001b[39m=\u001b[39msize)\n\u001b[1;32m-> 1004\u001b[0m     Y \u001b[39m=\u001b[39m \u001b[39mself\u001b[39;49m\u001b[39m.\u001b[39;49m_ppf(U, \u001b[39m*\u001b[39;49margs)\n\u001b[0;32m   1005\u001b[0m     \u001b[39mreturn\u001b[39;00m Y\n",
      "File \u001b[1;32mc:\\Users\\Mair\\anaconda3\\envs\\cellpose\\lib\\site-packages\\scipy\\stats\\_continuous_distns.py:8086\u001b[0m, in \u001b[0;36mtruncnorm_gen._ppf\u001b[1;34m(self, q, a, b)\u001b[0m\n\u001b[0;32m   8083\u001b[0m q_right \u001b[39m=\u001b[39m q[case_right]\n\u001b[0;32m   8085\u001b[0m \u001b[39mif\u001b[39;00m q_left\u001b[39m.\u001b[39msize:\n\u001b[1;32m-> 8086\u001b[0m     out[case_left] \u001b[39m=\u001b[39m ppf_left(q_left, a[case_left], b[case_left])\n\u001b[0;32m   8087\u001b[0m \u001b[39mif\u001b[39;00m q_right\u001b[39m.\u001b[39msize:\n\u001b[0;32m   8088\u001b[0m     out[case_right] \u001b[39m=\u001b[39m ppf_right(q_right, a[case_right], b[case_right])\n",
      "File \u001b[1;32mc:\\Users\\Mair\\anaconda3\\envs\\cellpose\\lib\\site-packages\\scipy\\stats\\_continuous_distns.py:8072\u001b[0m, in \u001b[0;36mtruncnorm_gen._ppf.<locals>.ppf_left\u001b[1;34m(q, a, b)\u001b[0m\n\u001b[0;32m   8070\u001b[0m \u001b[39mdef\u001b[39;00m \u001b[39mppf_left\u001b[39m(q, a, b):\n\u001b[0;32m   8071\u001b[0m     log_Phi_x \u001b[39m=\u001b[39m _log_sum(sc\u001b[39m.\u001b[39mlog_ndtr(a),\n\u001b[1;32m-> 8072\u001b[0m                          np\u001b[39m.\u001b[39mlog(q) \u001b[39m+\u001b[39m _log_gauss_mass(a, b))\n\u001b[0;32m   8073\u001b[0m     \u001b[39mreturn\u001b[39;00m sc\u001b[39m.\u001b[39mndtri_exp(log_Phi_x)\n",
      "File \u001b[1;32mc:\\Users\\Mair\\anaconda3\\envs\\cellpose\\lib\\site-packages\\scipy\\stats\\_continuous_distns.py:8005\u001b[0m, in \u001b[0;36m_log_gauss_mass\u001b[1;34m(a, b)\u001b[0m\n\u001b[0;32m   8003\u001b[0m     out[case_right] \u001b[39m=\u001b[39m mass_case_right(a[case_right], b[case_right])\n\u001b[0;32m   8004\u001b[0m \u001b[39mif\u001b[39;00m a[case_central]\u001b[39m.\u001b[39msize:\n\u001b[1;32m-> 8005\u001b[0m     out[case_central] \u001b[39m=\u001b[39m mass_case_central(a[case_central], b[case_central])\n\u001b[0;32m   8006\u001b[0m \u001b[39mreturn\u001b[39;00m np\u001b[39m.\u001b[39mreal(out)\n",
      "File \u001b[1;32mc:\\Users\\Mair\\anaconda3\\envs\\cellpose\\lib\\site-packages\\scipy\\stats\\_continuous_distns.py:7994\u001b[0m, in \u001b[0;36m_log_gauss_mass.<locals>.mass_case_central\u001b[1;34m(a, b)\u001b[0m\n\u001b[0;32m   7993\u001b[0m \u001b[39mdef\u001b[39;00m \u001b[39mmass_case_central\u001b[39m(a, b):\n\u001b[1;32m-> 7994\u001b[0m     left_mass \u001b[39m=\u001b[39m mass_case_left(a, \u001b[39m0.5\u001b[39;49m)\n\u001b[0;32m   7995\u001b[0m     right_mass \u001b[39m=\u001b[39m mass_case_right(\u001b[39m0.5\u001b[39m, b)\n\u001b[0;32m   7996\u001b[0m     \u001b[39mreturn\u001b[39;00m _log_sum(left_mass, right_mass)\n",
      "File \u001b[1;32mc:\\Users\\Mair\\anaconda3\\envs\\cellpose\\lib\\site-packages\\scipy\\stats\\_continuous_distns.py:7988\u001b[0m, in \u001b[0;36m_log_gauss_mass.<locals>.mass_case_left\u001b[1;34m(a, b)\u001b[0m\n\u001b[0;32m   7987\u001b[0m \u001b[39mdef\u001b[39;00m \u001b[39mmass_case_left\u001b[39m(a, b):\n\u001b[1;32m-> 7988\u001b[0m     \u001b[39mreturn\u001b[39;00m _log_diff(sc\u001b[39m.\u001b[39;49mlog_ndtr(b), sc\u001b[39m.\u001b[39;49mlog_ndtr(a))\n",
      "File \u001b[1;32mc:\\Users\\Mair\\anaconda3\\envs\\cellpose\\lib\\site-packages\\scipy\\stats\\_continuous_distns.py:7973\u001b[0m, in \u001b[0;36m_log_diff\u001b[1;34m(log_p, log_q)\u001b[0m\n\u001b[0;32m   7970\u001b[0m \u001b[39mdef\u001b[39;00m \u001b[39m_log_diff\u001b[39m(log_p, log_q):\n\u001b[0;32m   7971\u001b[0m     \u001b[39m# need to broadcast in case a or b is 0.5; logsumexp doesn't\u001b[39;00m\n\u001b[0;32m   7972\u001b[0m     log_p, log_q \u001b[39m=\u001b[39m np\u001b[39m.\u001b[39mbroadcast_arrays(log_p, log_q)\n\u001b[1;32m-> 7973\u001b[0m     \u001b[39mreturn\u001b[39;00m sc\u001b[39m.\u001b[39;49mlogsumexp([log_p, log_q\u001b[39m+\u001b[39;49mnp\u001b[39m.\u001b[39;49mpi\u001b[39m*\u001b[39;49m\u001b[39m1\u001b[39;49mj], axis\u001b[39m=\u001b[39;49m\u001b[39m0\u001b[39;49m)\n",
      "File \u001b[1;32mc:\\Users\\Mair\\anaconda3\\envs\\cellpose\\lib\\site-packages\\scipy\\special\\_logsumexp.py:92\u001b[0m, in \u001b[0;36mlogsumexp\u001b[1;34m(a, axis, b, keepdims, return_sign)\u001b[0m\n\u001b[0;32m      7\u001b[0m \u001b[39mdef\u001b[39;00m \u001b[39mlogsumexp\u001b[39m(a, axis\u001b[39m=\u001b[39m\u001b[39mNone\u001b[39;00m, b\u001b[39m=\u001b[39m\u001b[39mNone\u001b[39;00m, keepdims\u001b[39m=\u001b[39m\u001b[39mFalse\u001b[39;00m, return_sign\u001b[39m=\u001b[39m\u001b[39mFalse\u001b[39;00m):\n\u001b[0;32m      8\u001b[0m     \u001b[39m\"\"\"Compute the log of the sum of exponentials of input elements.\u001b[39;00m\n\u001b[0;32m      9\u001b[0m \n\u001b[0;32m     10\u001b[0m \u001b[39m    Parameters\u001b[39;00m\n\u001b[1;32m   (...)\u001b[0m\n\u001b[0;32m     90\u001b[0m \n\u001b[0;32m     91\u001b[0m \u001b[39m    \"\"\"\u001b[39;00m\n\u001b[1;32m---> 92\u001b[0m     a \u001b[39m=\u001b[39m _asarray_validated(a, check_finite\u001b[39m=\u001b[39;49m\u001b[39mFalse\u001b[39;49;00m)\n\u001b[0;32m     93\u001b[0m     \u001b[39mif\u001b[39;00m b \u001b[39mis\u001b[39;00m \u001b[39mnot\u001b[39;00m \u001b[39mNone\u001b[39;00m:\n\u001b[0;32m     94\u001b[0m         a, b \u001b[39m=\u001b[39m np\u001b[39m.\u001b[39mbroadcast_arrays(a, b)\n",
      "File \u001b[1;32mc:\\Users\\Mair\\anaconda3\\envs\\cellpose\\lib\\site-packages\\scipy\\_lib\\_util.py:287\u001b[0m, in \u001b[0;36m_asarray_validated\u001b[1;34m(a, check_finite, sparse_ok, objects_ok, mask_ok, as_inexact)\u001b[0m\n\u001b[0;32m    285\u001b[0m         \u001b[39mraise\u001b[39;00m \u001b[39mValueError\u001b[39;00m(\u001b[39m'\u001b[39m\u001b[39mmasked arrays are not supported\u001b[39m\u001b[39m'\u001b[39m)\n\u001b[0;32m    286\u001b[0m toarray \u001b[39m=\u001b[39m np\u001b[39m.\u001b[39masarray_chkfinite \u001b[39mif\u001b[39;00m check_finite \u001b[39melse\u001b[39;00m np\u001b[39m.\u001b[39masarray\n\u001b[1;32m--> 287\u001b[0m a \u001b[39m=\u001b[39m toarray(a)\n\u001b[0;32m    288\u001b[0m \u001b[39mif\u001b[39;00m \u001b[39mnot\u001b[39;00m objects_ok:\n\u001b[0;32m    289\u001b[0m     \u001b[39mif\u001b[39;00m a\u001b[39m.\u001b[39mdtype \u001b[39mis\u001b[39;00m np\u001b[39m.\u001b[39mdtype(\u001b[39m'\u001b[39m\u001b[39mO\u001b[39m\u001b[39m'\u001b[39m):\n",
      "\u001b[1;31mKeyboardInterrupt\u001b[0m: "
     ]
    }
   ],
   "source": [
    "res_dict_om = GSDUncertainty.calculate.dataset_uncertainty(gsds,method='MC_SfM',sfm_error=sfm_error_l,sfm_type='OM',num_it=100,mute=True)"
   ]
  },
  {
   "cell_type": "code",
   "execution_count": null,
   "metadata": {},
   "outputs": [
    {
     "ename": "TypeError",
     "evalue": "MC_with_sfm_err_SI() missing 1 required positional argument: 'alt'",
     "output_type": "error",
     "traceback": [
      "\u001b[1;31m---------------------------------------------------------------------------\u001b[0m",
      "\u001b[1;31mTypeError\u001b[0m                                 Traceback (most recent call last)",
      "Cell \u001b[1;32mIn [27], line 1\u001b[0m\n\u001b[1;32m----> 1\u001b[0m res_dict_si \u001b[39m=\u001b[39m GSDUncertainty\u001b[39m.\u001b[39;49mcalculate\u001b[39m.\u001b[39;49mdataset_uncertainty(gsds,method\u001b[39m=\u001b[39;49m\u001b[39m'\u001b[39;49m\u001b[39mMC_SfM\u001b[39;49m\u001b[39m'\u001b[39;49m,sfm_error\u001b[39m=\u001b[39;49msfm_error_l,num_it\u001b[39m=\u001b[39;49m\u001b[39m100\u001b[39;49m)\n",
      "File \u001b[1;32mf:\\git\\grain_seg_ml\\GSDUncertainty.py:336\u001b[0m, in \u001b[0;36mcalculate.dataset_uncertainty\u001b[1;34m(gsds, INP_DIR, grain_str, sep, column_name, conv_factor, method, scale_err, length_err, sfm_error, num_it, CI_bounds, MC_method, MC_cutoff, avg_res, mute, save_results, TAR_DIR, return_results, res_dict, sfm_type)\u001b[0m\n\u001b[0;32m    334\u001b[0m \u001b[39melse\u001b[39;00m:\n\u001b[0;32m    335\u001b[0m     avg_res_i \u001b[39m=\u001b[39m \u001b[39m1\u001b[39m\n\u001b[1;32m--> 336\u001b[0m med_list, upper_CI, lower_CI, gsd_list, ID \u001b[39m=\u001b[39m calculate\u001b[39m.\u001b[39;49mgsd_uncertainty(INP_PATH\u001b[39m=\u001b[39;49mgsds[i],sep\u001b[39m=\u001b[39;49msep,column_name\u001b[39m=\u001b[39;49mcolumn_name,conv_factor\u001b[39m=\u001b[39;49mconv_factor,method\u001b[39m=\u001b[39;49mmethod,scale_err\u001b[39m=\u001b[39;49mscale_err_i,length_err\u001b[39m=\u001b[39;49mlength_err_i,\n\u001b[0;32m    337\u001b[0m sfm_error\u001b[39m=\u001b[39;49msfm_error_i,num_it\u001b[39m=\u001b[39;49mnum_it,CI_bounds\u001b[39m=\u001b[39;49mCI_bounds, MC_method\u001b[39m=\u001b[39;49mMC_method,MC_cutoff\u001b[39m=\u001b[39;49mMC_cutoff,avg_res\u001b[39m=\u001b[39;49mavg_res_i,mute\u001b[39m=\u001b[39;49mmute,save_results\u001b[39m=\u001b[39;49msave_results,TAR_DIR\u001b[39m=\u001b[39;49mTAR_DIR,return_results\u001b[39m=\u001b[39;49m\u001b[39mTrue\u001b[39;49;00m,sfm_type\u001b[39m=\u001b[39;49msfm_type)\n\u001b[0;32m    338\u001b[0m \u001b[39mif\u001b[39;00m return_results\u001b[39m==\u001b[39m\u001b[39mTrue\u001b[39;00m:\n\u001b[0;32m    339\u001b[0m     res_dict[ID]\u001b[39m=\u001b[39m[med_list, upper_CI, lower_CI, gsd_list]\n",
      "File \u001b[1;32mf:\\git\\grain_seg_ml\\GSDUncertainty.py:357\u001b[0m, in \u001b[0;36mcalculate.gsd_uncertainty\u001b[1;34m(gsd, ID, INP_PATH, sep, column_name, conv_factor, method, scale_err, length_err, sfm_error, num_it, CI_bounds, MC_method, MC_cutoff, avg_res, mute, save_results, TAR_DIR, return_results, sfm_type)\u001b[0m\n\u001b[0;32m    355\u001b[0m \u001b[39mif\u001b[39;00m \u001b[39mnot\u001b[39;00m avg_res:\n\u001b[0;32m    356\u001b[0m     avg_res\u001b[39m=\u001b[39m\u001b[39m1\u001b[39m\n\u001b[1;32m--> 357\u001b[0m med_list, upper_CI, lower_CI, gsd_list \u001b[39m=\u001b[39m calculate\u001b[39m.\u001b[39muncertainty(gsd,method\u001b[39m=\u001b[39mmethod,scale_err\u001b[39m=\u001b[39mscale_err,length_err\u001b[39m=\u001b[39mlength_err,\n\u001b[0;32m    358\u001b[0m sfm_error\u001b[39m=\u001b[39msfm_error,num_it\u001b[39m=\u001b[39mnum_it,CI_bounds\u001b[39m=\u001b[39mCI_bounds,MC_method\u001b[39m=\u001b[39mMC_method,MC_cutoff\u001b[39m=\u001b[39mMC_cutoff,avg_res\u001b[39m=\u001b[39mavg_res,mute\u001b[39m=\u001b[39mmute,sfm_type\u001b[39m=\u001b[39msfm_type)\n\u001b[0;32m    359\u001b[0m \u001b[39mif\u001b[39;00m save_results \u001b[39m==\u001b[39m \u001b[39mTrue\u001b[39;00m:\n\u001b[0;32m    360\u001b[0m     \u001b[39mif\u001b[39;00m TAR_DIR:\n",
      "File \u001b[1;32mf:\\git\\grain_seg_ml\\GSDUncertainty.py:392\u001b[0m, in \u001b[0;36mcalculate.uncertainty\u001b[1;34m(gsd, method, scale_err, length_err, sfm_error, num_it, CI_bounds, MC_method, MC_cutoff, avg_res, mute, sfm_type)\u001b[0m\n\u001b[0;32m    390\u001b[0m         med_list, upper_CI, lower_CI \u001b[39m=\u001b[39m random\u001b[39m.\u001b[39mget_MC_percentiles(res_list,CI_bounds\u001b[39m=\u001b[39mCI_bounds)\n\u001b[0;32m    391\u001b[0m     \u001b[39melse\u001b[39;00m:\n\u001b[1;32m--> 392\u001b[0m         res_list \u001b[39m=\u001b[39m random\u001b[39m.\u001b[39;49mMC_with_sfm_err_SI(gsd,sfm_error\u001b[39m=\u001b[39;49msfm_error,avg_res\u001b[39m=\u001b[39;49mavg_res,num_it\u001b[39m=\u001b[39;49mnum_it,cutoff\u001b[39m=\u001b[39;49mMC_cutoff,method\u001b[39m=\u001b[39;49mMC_method)\n\u001b[0;32m    393\u001b[0m         med_list, upper_CI, lower_CI \u001b[39m=\u001b[39m random\u001b[39m.\u001b[39mget_MC_percentiles(res_list,CI_bounds\u001b[39m=\u001b[39mCI_bounds)\n\u001b[0;32m    394\u001b[0m \u001b[39m#do perc_uncert with one of the available methods\u001b[39;00m\n",
      "\u001b[1;31mTypeError\u001b[0m: MC_with_sfm_err_SI() missing 1 required positional argument: 'alt'"
     ]
    }
   ],
   "source": [
    "res_dict_si = GSDUncertainty.calculate.dataset_uncertainty(gsds,method='MC_SfM',sfm_error=sfm_error_l,num_it=100,mute=True)"
   ]
  }
 ],
 "metadata": {
  "kernelspec": {
   "display_name": "Python 3.8.13 ('cellpose')",
   "language": "python",
   "name": "python3"
  },
  "language_info": {
   "codemirror_mode": {
    "name": "ipython",
    "version": 3
   },
   "file_extension": ".py",
   "mimetype": "text/x-python",
   "name": "python",
   "nbconvert_exporter": "python",
   "pygments_lexer": "ipython3",
   "version": "3.8.13"
  },
  "orig_nbformat": 4,
  "vscode": {
   "interpreter": {
    "hash": "74625132edb41e21b34b8a8fbc966ab06236c9dc6193de88b3677b97672e7911"
   }
  }
 },
 "nbformat": 4,
 "nbformat_minor": 2
}
