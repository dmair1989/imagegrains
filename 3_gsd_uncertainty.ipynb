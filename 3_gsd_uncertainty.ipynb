{
 "cells": [
  {
   "cell_type": "code",
   "execution_count": 1,
   "metadata": {},
   "outputs": [],
   "source": [
    "import GSDUncertainty\n",
    "import GrainSizing"
   ]
  },
  {
   "cell_type": "code",
   "execution_count": 2,
   "metadata": {},
   "outputs": [],
   "source": [
    "PATH = \"F:/cellpose/code_demo/\"\n",
    "gsds = GrainSizing.load.load_grain_set([PATH],gsd_str='re_scaled',filter_str='0')"
   ]
  },
  {
   "cell_type": "code",
   "execution_count": 3,
   "metadata": {},
   "outputs": [
    {
     "name": "stderr",
     "output_type": "stream",
     "text": [
      "bootstrapping: 100%|\u001b[33m██████████\u001b[0m| 7/7 [00:01<00:00,  6.85gsd/s]\n"
     ]
    }
   ],
   "source": [
    "res_dict_bs = GSDUncertainty.calculate.dataset_uncertainty(gsds,mute=True)"
   ]
  },
  {
   "cell_type": "code",
   "execution_count": 4,
   "metadata": {},
   "outputs": [
    {
     "name": "stderr",
     "output_type": "stream",
     "text": [
      "MC: 100%|\u001b[33m██████████\u001b[0m| 7/7 [01:05<00:00,  9.36s/gsd]\n"
     ]
    }
   ],
   "source": [
    "res_dict_mc = GSDUncertainty.calculate.dataset_uncertainty(gsds,method='MC',scale_err=[.1],length_err=[1],num_it=100,mute=True)"
   ]
  },
  {
   "cell_type": "code",
   "execution_count": 5,
   "metadata": {},
   "outputs": [],
   "source": [
    "sfm_error_l = GSDUncertainty.calculate.compile_sfm_error(from_file=PATH+'OM_err.csv')"
   ]
  },
  {
   "cell_type": "code",
   "execution_count": 6,
   "metadata": {},
   "outputs": [
    {
     "name": "stderr",
     "output_type": "stream",
     "text": [
      "MC_SfM: 100%|\u001b[33m██████████\u001b[0m| 7/7 [01:05<00:00,  9.42s/gsd]\n"
     ]
    }
   ],
   "source": [
    "res_dict_om = GSDUncertainty.calculate.dataset_uncertainty(gsds,method='MC_SfM',sfm_error=sfm_error_l,sfm_type='OM',num_it=100,mute=True)"
   ]
  },
  {
   "cell_type": "code",
   "execution_count": 7,
   "metadata": {},
   "outputs": [
    {
     "name": "stderr",
     "output_type": "stream",
     "text": [
      "MC_SfM: 100%|\u001b[33m██████████\u001b[0m| 7/7 [01:09<00:00,  9.98s/gsd]\n"
     ]
    }
   ],
   "source": [
    "res_dict_si = GSDUncertainty.calculate.dataset_uncertainty(gsds,method='MC_SfM',sfm_error=sfm_error_l,num_it=100,mute=True)"
   ]
  }
 ],
 "metadata": {
  "kernelspec": {
   "display_name": "Python 3.8.13 ('cellpose')",
   "language": "python",
   "name": "python3"
  },
  "language_info": {
   "codemirror_mode": {
    "name": "ipython",
    "version": 3
   },
   "file_extension": ".py",
   "mimetype": "text/x-python",
   "name": "python",
   "nbconvert_exporter": "python",
   "pygments_lexer": "ipython3",
   "version": "3.8.13"
  },
  "orig_nbformat": 4,
  "vscode": {
   "interpreter": {
    "hash": "74625132edb41e21b34b8a8fbc966ab06236c9dc6193de88b3677b97672e7911"
   }
  }
 },
 "nbformat": 4,
 "nbformat_minor": 2
}
