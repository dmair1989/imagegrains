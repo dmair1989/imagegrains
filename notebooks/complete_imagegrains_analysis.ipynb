{
 "cells": [
  {
   "cell_type": "code",
   "execution_count": null,
   "metadata": {},
   "outputs": [],
   "source": [
    "#Load error input for SfM from file\n",
    "#sfm_error_l = gsd_uncertainty.compile_sfm_error(from_file='F:/cellpose/x_pre_Nov_22/code_demo/OM_err.csv')\n",
    "# Percentile uncertainty with Monte Carlo (counting statistics & scale, length uncertainty from SfM - OM)\n",
    "#res_dict_om = gsd_uncertainty.dataset_uncertainty(fh_pred_gsds,method='MC_SfM',sfm_error=sfm_error_l,sfm_type='OM',num_it=num_it,mute=True,column_name=column_name,sep=';',gsd_id=fh_id_l)"
   ]
  }
 ],
 "metadata": {
  "language_info": {
   "name": "python"
  },
  "orig_nbformat": 4
 },
 "nbformat": 4,
 "nbformat_minor": 2
}
