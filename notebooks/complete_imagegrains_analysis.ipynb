{
 "cells": [
  {
   "cell_type": "code",
   "execution_count": 1,
   "metadata": {},
   "outputs": [],
   "source": [
    "import sys, os\n",
    "from pathlib import Path\n",
    "sys.path.insert(1, 'F:/git/grain_seg_ml/test/test_grains/')\n",
    "sys.path.insert(0, Path(os.getcwd()).parent)\n",
    "\n",
    "import grainsizing\n",
    "import plotting\n",
    "import segmentation_helper\n",
    "import data_loader\n",
    "import gsd_uncertainty"
   ]
  },
  {
   "attachments": {},
   "cell_type": "markdown",
   "metadata": {},
   "source": [
    "## Complete ImageGrains analysis"
   ]
  },
  {
   "attachments": {},
   "cell_type": "markdown",
   "metadata": {},
   "source": [
    "### Segment image(s)"
   ]
  },
  {
   "cell_type": "code",
   "execution_count": 2,
   "metadata": {},
   "outputs": [],
   "source": [
    "# Path to the images\n",
    "IMAGE_PATH = 'F:/demo/K1/'\n",
    "# Path to the segementation model\n",
    "MODEL_PATH ='F:/git/grain_seg_ml/models/full_set_1.170223'\n",
    "# Run segmentation\n",
    "segmentation_helper.batch_predict(MODEL_PATH,IMAGE_PATH,mute=True,return_results=False,save_masks=True);"
   ]
  }
 ],
 "metadata": {
  "kernelspec": {
   "display_name": "imagegrains2",
   "language": "python",
   "name": "python3"
  },
  "language_info": {
   "codemirror_mode": {
    "name": "ipython",
    "version": 3
   },
   "file_extension": ".py",
   "mimetype": "text/x-python",
   "name": "python",
   "nbconvert_exporter": "python",
   "pygments_lexer": "ipython3",
   "version": "3.8.16"
  },
  "orig_nbformat": 4
 },
 "nbformat": 4,
 "nbformat_minor": 2
}
